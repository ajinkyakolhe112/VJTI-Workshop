{
 "cells": [
  {
   "cell_type": "markdown",
   "metadata": {},
   "source": [
    "# Observation rather than law\n",
    "and exploiting that observation"
   ]
  },
  {
   "cell_type": "markdown",
   "metadata": {},
   "source": [
    "### Observation 1"
   ]
  },
  {
   "cell_type": "code",
   "execution_count": null,
   "metadata": {},
   "outputs": [],
   "source": [
    "ARCHITECTURE = \"1d fully_connected: [ (1,28,28) , 100, 10 ]\"\n",
    "for HIDDEN_LAYER_NEURONS in range_of_neurons:\n",
    "    model = keras.Sequential(\n",
    "        keras.layers.Input( shape = (1, 28, 28) ),\n",
    "        keras.layers.Flatten(),\n",
    "        keras.layers.Dense( units = HIDDEN_LAYER_NEURONS , activation= \"relu\"),\n",
    "        keras.layers.Dense( units = 10   , activation= \"relu\")\n",
    "    )"
   ]
  },
  {
   "cell_type": "markdown",
   "metadata": {},
   "source": [
    "### Observation 2"
   ]
  },
  {
   "cell_type": "code",
   "execution_count": null,
   "metadata": {},
   "outputs": [],
   "source": [
    "model = keras.Sequential(\n",
    "    keras.layers.Input( shape = (1, 28, 28) ),\n",
    "    keras.layers.Flatten(),\n",
    "    keras.layers.Dense( units = HIDDEN_LAYER_NEURONS , activation= \"relu\"),\n",
    "    keras.layers.Dense( units = 10   , activation= \"relu\")\n",
    ")\n",
    "\n",
    "model_2 = keras.Sequential(\n",
    "    keras.layers.Input( shape = (3, 32, 32) ),\n",
    "    keras.layers.Flatten(),\n",
    "    keras.layers.Dense( units = HIDDEN_LAYER_NEURONS * 2 , activation= \"relu\"),\n",
    "    keras.layers.Dense( units = 10   , activation= \"relu\")\n",
    ")"
   ]
  },
  {
   "cell_type": "markdown",
   "metadata": {},
   "source": [
    "- observation: accuracy increases as you increase neurons. and then it starts decreasing\n",
    "- observation: more complex problem, requires bigger number of neurons. (how iq, more complex the organism actions)\n",
    "\n",
    "- how to exploit this\n",
    "Any extremely complex problem can be solved simply by increasing number of neurons/parameters. \n",
    "\n",
    "- Brute for method. Just increasing number of neurons.\n",
    "- Brute for method. Just optimizing each parameter by extremely tiny bit. \n",
    "- Brute for is expensive and stupid. but Brute force is simple to do. "
   ]
  },
  {
   "cell_type": "markdown",
   "metadata": {},
   "source": [
    "Answer: Neuron Scaling Law"
   ]
  }
 ],
 "metadata": {
  "language_info": {
   "name": "python"
  }
 },
 "nbformat": 4,
 "nbformat_minor": 2
}
